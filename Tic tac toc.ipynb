{
 "cells": [
  {
   "cell_type": "code",
   "execution_count": 1,
   "id": "2eacaa5e",
   "metadata": {},
   "outputs": [],
   "source": [
    "board=[' ' for i in range(9)]"
   ]
  },
  {
   "cell_type": "code",
   "execution_count": 2,
   "id": "f896b1ef",
   "metadata": {},
   "outputs": [],
   "source": [
    "def check_win():\n",
    "       \n",
    "            if(board[0]==board[1] and board[1]==board[2] and board[2]==board[0] and board[1]!=' '):\n",
    "                    return True\n",
    "            elif(board[4]==board[3] and board[5]==board[4] and board[3]==board[4] and board[4]!=' '):\n",
    "                    return True\n",
    "            elif(board[6]==board[7] and board[8]==board[7] and board[8]==board[6] and board[7]!=' '):\n",
    "                    return True\n",
    "            elif(board[0]==board[3] and board[3]==board[6] and board[0]==board[6] and board[6]!=' '):\n",
    "                    return True\n",
    "            elif(board[1]==board[4] and board[4]==board[7] and board[1]==board[7] and board[7]!=' '):\n",
    "                    return True\n",
    "            elif(board[2]==board[5] and board[5]==board[8] and board[2]==board[8] and board[2]!=' '):\n",
    "                    return True\n",
    "            elif(board[0]==board[4] and board[4]==board[8] and board[0]==board[8] and board[0]!=' '):\n",
    "                    return True\n",
    "            elif(board[2]==board[4] and board[4]==board[6] and board[2]==board[6] and board[2]!=' '):\n",
    "                    return True\n",
    "            else:\n",
    "                return False\n"
   ]
  },
  {
   "cell_type": "code",
   "execution_count": 3,
   "id": "4dc7f931",
   "metadata": {},
   "outputs": [],
   "source": [
    "def check_tie():\n",
    "    if(board[0]!=' ' and board[2]!=' ' and board[3]!=' ' and board[4]!=' ' and board[5]!=' ' and board[6]!=' ' and board[7]!=' ' and board[8]!=' ' and board[1]!=' '):    \n",
    "        return True"
   ]
  },
  {
   "cell_type": "code",
   "execution_count": 4,
   "id": "fb277b15",
   "metadata": {},
   "outputs": [],
   "source": [
    "def check_position(p): \n",
    "    if(board[p]==' '):\n",
    "        return True\n",
    "    else:\n",
    "        return False\n"
   ]
  },
  {
   "cell_type": "code",
   "execution_count": 5,
   "id": "61963d31",
   "metadata": {},
   "outputs": [],
   "source": [
    "def print_board():\n",
    "        print(\" %c | %c | %c \"%(board[0],board[1],board[2]))\n",
    "        print(\"___|___|___\")    \n",
    "        print(\" %c | %c | %c \"%(board[3],board[4],board[5]))\n",
    "        print(\"___|___|___\")    \n",
    "        print(\" %c | %c | %c \"%(board[6],board[7],board[8]))\n",
    "        print(\"   |   |   \")      \n",
    "        print('\\n')"
   ]
  },
  {
   "cell_type": "code",
   "execution_count": 6,
   "id": "989bf9af",
   "metadata": {},
   "outputs": [
    {
     "name": "stdout",
     "output_type": "stream",
     "text": [
      "The Game Of Tic-Tac-Toc\n"
     ]
    }
   ],
   "source": [
    "print(\"The Game Of Tic-Tac-Toc\")"
   ]
  },
  {
   "cell_type": "code",
   "execution_count": null,
   "id": "09d0427b",
   "metadata": {},
   "outputs": [],
   "source": []
  },
  {
   "cell_type": "code",
   "execution_count": null,
   "id": "24d50f7e",
   "metadata": {},
   "outputs": [],
   "source": []
  },
  {
   "cell_type": "code",
   "execution_count": null,
   "id": "da932276",
   "metadata": {},
   "outputs": [],
   "source": []
  },
  {
   "cell_type": "markdown",
   "id": "27b28b14",
   "metadata": {},
   "source": [
    " "
   ]
  },
  {
   "cell_type": "code",
   "execution_count": null,
   "id": "3d2d0e11",
   "metadata": {},
   "outputs": [],
   "source": []
  }
 ],
 "metadata": {
  "kernelspec": {
   "display_name": "Python 3 (ipykernel)",
   "language": "python",
   "name": "python3"
  },
  "language_info": {
   "codemirror_mode": {
    "name": "ipython",
    "version": 3
   },
   "file_extension": ".py",
   "mimetype": "text/x-python",
   "name": "python",
   "nbconvert_exporter": "python",
   "pygments_lexer": "ipython3",
   "version": "3.11.3"
  }
 },
 "nbformat": 4,
 "nbformat_minor": 5
}
